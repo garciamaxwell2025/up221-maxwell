{
 "cells": [
  {
   "cell_type": "code",
   "execution_count": 1,
   "id": "cc69524a-9727-45fc-a09d-52dff045509a",
   "metadata": {},
   "outputs": [],
   "source": [
    "# Week 2 Assignment\n",
    "## Data Exploration\n",
    "### I'll be looking at affordable housing development. "
   ]
  },
  {
   "cell_type": "code",
   "execution_count": 2,
   "id": "f73f8d21-b4da-4af9-a4d1-70132fdaf4d8",
   "metadata": {},
   "outputs": [],
   "source": [
    "# importing python libraries\n",
    "import pandas as pd\n",
    "import geopandas as gpd"
   ]
  },
  {
   "cell_type": "code",
   "execution_count": 3,
   "id": "f6772a03-9d61-421f-ab7b-cba9fd849c1a",
   "metadata": {},
   "outputs": [
    {
     "name": "stderr",
     "output_type": "stream",
     "text": [
      "ERROR 1: PROJ: proj_create_from_database: Open of /opt/conda/share/proj failed\n"
     ]
    },
    {
     "data": {
      "text/html": [
       "<div>\n",
       "<style scoped>\n",
       "    .dataframe tbody tr th:only-of-type {\n",
       "        vertical-align: middle;\n",
       "    }\n",
       "\n",
       "    .dataframe tbody tr th {\n",
       "        vertical-align: top;\n",
       "    }\n",
       "\n",
       "    .dataframe thead th {\n",
       "        text-align: right;\n",
       "    }\n",
       "</style>\n",
       "<table border=\"1\" class=\"dataframe\">\n",
       "  <thead>\n",
       "    <tr style=\"text-align: right;\">\n",
       "      <th></th>\n",
       "      <th>OBJECTID</th>\n",
       "      <th>PROJECT_NA</th>\n",
       "      <th>AV_ADD</th>\n",
       "      <th>TOOLTIP</th>\n",
       "      <th>NLA_URL</th>\n",
       "      <th>geometry</th>\n",
       "    </tr>\n",
       "  </thead>\n",
       "  <tbody>\n",
       "    <tr>\n",
       "      <th>0</th>\n",
       "      <td>1</td>\n",
       "      <td>1747 Normandie (Casa Dinivid)</td>\n",
       "      <td>1747 N. NORMANDIE AVE.</td>\n",
       "      <td>Project Name: 1747 Normandie (Casa Dinivid)\\nA...</td>\n",
       "      <td>navigatela/reports/affordable_housing.cfm?pk=1</td>\n",
       "      <td>POINT (-118.30055 34.10263)</td>\n",
       "    </tr>\n",
       "    <tr>\n",
       "      <th>1</th>\n",
       "      <td>2</td>\n",
       "      <td>LA Pro II Apts/berendo</td>\n",
       "      <td>1100 S. BERENDO</td>\n",
       "      <td>Project Name: LA Pro II Apts/berendo\\nAddress:...</td>\n",
       "      <td>navigatela/reports/affordable_housing.cfm?pk=2</td>\n",
       "      <td>POINT (-118.29370 34.05089)</td>\n",
       "    </tr>\n",
       "    <tr>\n",
       "      <th>2</th>\n",
       "      <td>3</td>\n",
       "      <td>7020 &amp; 7024 lennox ave apts</td>\n",
       "      <td>7020  N. LENNOX AVE.</td>\n",
       "      <td>Project Name: 7020 &amp; 7024 lennox ave apts\\nAdd...</td>\n",
       "      <td>navigatela/reports/affordable_housing.cfm?pk=3</td>\n",
       "      <td>POINT (-118.44546 34.19810)</td>\n",
       "    </tr>\n",
       "    <tr>\n",
       "      <th>3</th>\n",
       "      <td>4</td>\n",
       "      <td>LA Pro II Apts/western</td>\n",
       "      <td>10311 S. WESTERN AVE.</td>\n",
       "      <td>Project Name: LA Pro II Apts/western\\nAddress:...</td>\n",
       "      <td>navigatela/reports/affordable_housing.cfm?pk=4</td>\n",
       "      <td>POINT (-118.30901 33.94305)</td>\n",
       "    </tr>\n",
       "    <tr>\n",
       "      <th>4</th>\n",
       "      <td>5</td>\n",
       "      <td>LA Pro II Apts/menlo</td>\n",
       "      <td>3977 S. MENLO AVE.</td>\n",
       "      <td>Project Name: LA Pro II Apts/menlo\\nAddress: 3...</td>\n",
       "      <td>navigatela/reports/affordable_housing.cfm?pk=5</td>\n",
       "      <td>POINT (-118.29012 34.01220)</td>\n",
       "    </tr>\n",
       "    <tr>\n",
       "      <th>...</th>\n",
       "      <td>...</td>\n",
       "      <td>...</td>\n",
       "      <td>...</td>\n",
       "      <td>...</td>\n",
       "      <td>...</td>\n",
       "      <td>...</td>\n",
       "    </tr>\n",
       "    <tr>\n",
       "      <th>2376</th>\n",
       "      <td>2377</td>\n",
       "      <td>956 W. 9th Street - Unit 4</td>\n",
       "      <td>956 W. 9TH STREET-#4</td>\n",
       "      <td>Project Name: 956 W. 9th Street - Unit 4\\nAddr...</td>\n",
       "      <td>navigatela/reports/affordable_housing.cfm?pk=2377</td>\n",
       "      <td>POINT (-118.29803 33.73608)</td>\n",
       "    </tr>\n",
       "    <tr>\n",
       "      <th>2377</th>\n",
       "      <td>2378</td>\n",
       "      <td>956 W. 9th Street - Unit 5</td>\n",
       "      <td>956 W. 9TH STREET-#5</td>\n",
       "      <td>Project Name: 956 W. 9th Street - Unit 5\\nAddr...</td>\n",
       "      <td>navigatela/reports/affordable_housing.cfm?pk=2378</td>\n",
       "      <td>POINT (-118.29803 33.73608)</td>\n",
       "    </tr>\n",
       "    <tr>\n",
       "      <th>2378</th>\n",
       "      <td>2379</td>\n",
       "      <td>956 W. 9th Street - Unit 6</td>\n",
       "      <td>956 W. 9TH STREET-#6</td>\n",
       "      <td>Project Name: 956 W. 9th Street - Unit 6\\nAddr...</td>\n",
       "      <td>navigatela/reports/affordable_housing.cfm?pk=2379</td>\n",
       "      <td>POINT (-118.29803 33.73608)</td>\n",
       "    </tr>\n",
       "    <tr>\n",
       "      <th>2379</th>\n",
       "      <td>2380</td>\n",
       "      <td>9247-9257 Van Nuys Boulevard Apts</td>\n",
       "      <td>9247-9257 VAN NUYS BOULEVARD</td>\n",
       "      <td>Project Name: 9247-9257 Van Nuys Boulevard Apt...</td>\n",
       "      <td>navigatela/reports/affordable_housing.cfm?pk=2380</td>\n",
       "      <td>POINT (-118.45026 34.23811)</td>\n",
       "    </tr>\n",
       "    <tr>\n",
       "      <th>2380</th>\n",
       "      <td>2381</td>\n",
       "      <td>Vista Del Sol (Phase III of Pueblo Del Sol - A...</td>\n",
       "      <td>1201 KEARNEY</td>\n",
       "      <td>Project Name: Vista Del Sol (Phase III of Pueb...</td>\n",
       "      <td>navigatela/reports/affordable_housing.cfm?pk=2381</td>\n",
       "      <td>POINT (-118.22715 34.05100)</td>\n",
       "    </tr>\n",
       "  </tbody>\n",
       "</table>\n",
       "<p>2381 rows × 6 columns</p>\n",
       "</div>"
      ],
      "text/plain": [
       "      OBJECTID                                         PROJECT_NA  \\\n",
       "0            1                      1747 Normandie (Casa Dinivid)   \n",
       "1            2                             LA Pro II Apts/berendo   \n",
       "2            3                        7020 & 7024 lennox ave apts   \n",
       "3            4                             LA Pro II Apts/western   \n",
       "4            5                               LA Pro II Apts/menlo   \n",
       "...        ...                                                ...   \n",
       "2376      2377                         956 W. 9th Street - Unit 4   \n",
       "2377      2378                         956 W. 9th Street - Unit 5   \n",
       "2378      2379                         956 W. 9th Street - Unit 6   \n",
       "2379      2380                  9247-9257 Van Nuys Boulevard Apts   \n",
       "2380      2381  Vista Del Sol (Phase III of Pueblo Del Sol - A...   \n",
       "\n",
       "                            AV_ADD  \\\n",
       "0           1747 N. NORMANDIE AVE.   \n",
       "1                  1100 S. BERENDO   \n",
       "2             7020  N. LENNOX AVE.   \n",
       "3            10311 S. WESTERN AVE.   \n",
       "4               3977 S. MENLO AVE.   \n",
       "...                            ...   \n",
       "2376          956 W. 9TH STREET-#4   \n",
       "2377          956 W. 9TH STREET-#5   \n",
       "2378          956 W. 9TH STREET-#6   \n",
       "2379  9247-9257 VAN NUYS BOULEVARD   \n",
       "2380                  1201 KEARNEY   \n",
       "\n",
       "                                                TOOLTIP  \\\n",
       "0     Project Name: 1747 Normandie (Casa Dinivid)\\nA...   \n",
       "1     Project Name: LA Pro II Apts/berendo\\nAddress:...   \n",
       "2     Project Name: 7020 & 7024 lennox ave apts\\nAdd...   \n",
       "3     Project Name: LA Pro II Apts/western\\nAddress:...   \n",
       "4     Project Name: LA Pro II Apts/menlo\\nAddress: 3...   \n",
       "...                                                 ...   \n",
       "2376  Project Name: 956 W. 9th Street - Unit 4\\nAddr...   \n",
       "2377  Project Name: 956 W. 9th Street - Unit 5\\nAddr...   \n",
       "2378  Project Name: 956 W. 9th Street - Unit 6\\nAddr...   \n",
       "2379  Project Name: 9247-9257 Van Nuys Boulevard Apt...   \n",
       "2380  Project Name: Vista Del Sol (Phase III of Pueb...   \n",
       "\n",
       "                                                NLA_URL  \\\n",
       "0        navigatela/reports/affordable_housing.cfm?pk=1   \n",
       "1        navigatela/reports/affordable_housing.cfm?pk=2   \n",
       "2        navigatela/reports/affordable_housing.cfm?pk=3   \n",
       "3        navigatela/reports/affordable_housing.cfm?pk=4   \n",
       "4        navigatela/reports/affordable_housing.cfm?pk=5   \n",
       "...                                                 ...   \n",
       "2376  navigatela/reports/affordable_housing.cfm?pk=2377   \n",
       "2377  navigatela/reports/affordable_housing.cfm?pk=2378   \n",
       "2378  navigatela/reports/affordable_housing.cfm?pk=2379   \n",
       "2379  navigatela/reports/affordable_housing.cfm?pk=2380   \n",
       "2380  navigatela/reports/affordable_housing.cfm?pk=2381   \n",
       "\n",
       "                         geometry  \n",
       "0     POINT (-118.30055 34.10263)  \n",
       "1     POINT (-118.29370 34.05089)  \n",
       "2     POINT (-118.44546 34.19810)  \n",
       "3     POINT (-118.30901 33.94305)  \n",
       "4     POINT (-118.29012 34.01220)  \n",
       "...                           ...  \n",
       "2376  POINT (-118.29803 33.73608)  \n",
       "2377  POINT (-118.29803 33.73608)  \n",
       "2378  POINT (-118.29803 33.73608)  \n",
       "2379  POINT (-118.45026 34.23811)  \n",
       "2380  POINT (-118.22715 34.05100)  \n",
       "\n",
       "[2381 rows x 6 columns]"
      ]
     },
     "execution_count": 3,
     "metadata": {},
     "output_type": "execute_result"
    }
   ],
   "source": [
    "metro = gpd.read_file('Data/Affordable_Housing_Development.geojson')\n",
    "metro"
   ]
  },
  {
   "cell_type": "code",
   "execution_count": 4,
   "id": "8cdee257-a58b-42a1-ad22-6227baf5ef3e",
   "metadata": {},
   "outputs": [
    {
     "data": {
      "text/plain": [
       "geopandas.geodataframe.GeoDataFrame"
      ]
     },
     "execution_count": 4,
     "metadata": {},
     "output_type": "execute_result"
    }
   ],
   "source": [
    "# what's the data type?\n",
    "type(metro)"
   ]
  },
  {
   "cell_type": "code",
   "execution_count": 5,
   "id": "70b85626-d27d-4ab8-85ba-9499575ad819",
   "metadata": {},
   "outputs": [
    {
     "data": {
      "text/html": [
       "<div>\n",
       "<style scoped>\n",
       "    .dataframe tbody tr th:only-of-type {\n",
       "        vertical-align: middle;\n",
       "    }\n",
       "\n",
       "    .dataframe tbody tr th {\n",
       "        vertical-align: top;\n",
       "    }\n",
       "\n",
       "    .dataframe thead th {\n",
       "        text-align: right;\n",
       "    }\n",
       "</style>\n",
       "<table border=\"1\" class=\"dataframe\">\n",
       "  <thead>\n",
       "    <tr style=\"text-align: right;\">\n",
       "      <th></th>\n",
       "      <th>OBJECTID</th>\n",
       "      <th>PROJECT_NA</th>\n",
       "      <th>AV_ADD</th>\n",
       "      <th>TOOLTIP</th>\n",
       "      <th>NLA_URL</th>\n",
       "      <th>geometry</th>\n",
       "    </tr>\n",
       "  </thead>\n",
       "  <tbody>\n",
       "    <tr>\n",
       "      <th>0</th>\n",
       "      <td>1</td>\n",
       "      <td>1747 Normandie (Casa Dinivid)</td>\n",
       "      <td>1747 N. NORMANDIE AVE.</td>\n",
       "      <td>Project Name: 1747 Normandie (Casa Dinivid)\\nA...</td>\n",
       "      <td>navigatela/reports/affordable_housing.cfm?pk=1</td>\n",
       "      <td>POINT (-118.30055 34.10263)</td>\n",
       "    </tr>\n",
       "    <tr>\n",
       "      <th>1</th>\n",
       "      <td>2</td>\n",
       "      <td>LA Pro II Apts/berendo</td>\n",
       "      <td>1100 S. BERENDO</td>\n",
       "      <td>Project Name: LA Pro II Apts/berendo\\nAddress:...</td>\n",
       "      <td>navigatela/reports/affordable_housing.cfm?pk=2</td>\n",
       "      <td>POINT (-118.29370 34.05089)</td>\n",
       "    </tr>\n",
       "    <tr>\n",
       "      <th>2</th>\n",
       "      <td>3</td>\n",
       "      <td>7020 &amp; 7024 lennox ave apts</td>\n",
       "      <td>7020  N. LENNOX AVE.</td>\n",
       "      <td>Project Name: 7020 &amp; 7024 lennox ave apts\\nAdd...</td>\n",
       "      <td>navigatela/reports/affordable_housing.cfm?pk=3</td>\n",
       "      <td>POINT (-118.44546 34.19810)</td>\n",
       "    </tr>\n",
       "    <tr>\n",
       "      <th>3</th>\n",
       "      <td>4</td>\n",
       "      <td>LA Pro II Apts/western</td>\n",
       "      <td>10311 S. WESTERN AVE.</td>\n",
       "      <td>Project Name: LA Pro II Apts/western\\nAddress:...</td>\n",
       "      <td>navigatela/reports/affordable_housing.cfm?pk=4</td>\n",
       "      <td>POINT (-118.30901 33.94305)</td>\n",
       "    </tr>\n",
       "    <tr>\n",
       "      <th>4</th>\n",
       "      <td>5</td>\n",
       "      <td>LA Pro II Apts/menlo</td>\n",
       "      <td>3977 S. MENLO AVE.</td>\n",
       "      <td>Project Name: LA Pro II Apts/menlo\\nAddress: 3...</td>\n",
       "      <td>navigatela/reports/affordable_housing.cfm?pk=5</td>\n",
       "      <td>POINT (-118.29012 34.01220)</td>\n",
       "    </tr>\n",
       "  </tbody>\n",
       "</table>\n",
       "</div>"
      ],
      "text/plain": [
       "   OBJECTID                     PROJECT_NA                  AV_ADD  \\\n",
       "0         1  1747 Normandie (Casa Dinivid)  1747 N. NORMANDIE AVE.   \n",
       "1         2         LA Pro II Apts/berendo         1100 S. BERENDO   \n",
       "2         3    7020 & 7024 lennox ave apts    7020  N. LENNOX AVE.   \n",
       "3         4         LA Pro II Apts/western   10311 S. WESTERN AVE.   \n",
       "4         5           LA Pro II Apts/menlo      3977 S. MENLO AVE.   \n",
       "\n",
       "                                             TOOLTIP  \\\n",
       "0  Project Name: 1747 Normandie (Casa Dinivid)\\nA...   \n",
       "1  Project Name: LA Pro II Apts/berendo\\nAddress:...   \n",
       "2  Project Name: 7020 & 7024 lennox ave apts\\nAdd...   \n",
       "3  Project Name: LA Pro II Apts/western\\nAddress:...   \n",
       "4  Project Name: LA Pro II Apts/menlo\\nAddress: 3...   \n",
       "\n",
       "                                          NLA_URL                     geometry  \n",
       "0  navigatela/reports/affordable_housing.cfm?pk=1  POINT (-118.30055 34.10263)  \n",
       "1  navigatela/reports/affordable_housing.cfm?pk=2  POINT (-118.29370 34.05089)  \n",
       "2  navigatela/reports/affordable_housing.cfm?pk=3  POINT (-118.44546 34.19810)  \n",
       "3  navigatela/reports/affordable_housing.cfm?pk=4  POINT (-118.30901 33.94305)  \n",
       "4  navigatela/reports/affordable_housing.cfm?pk=5  POINT (-118.29012 34.01220)  "
      ]
     },
     "execution_count": 5,
     "metadata": {},
     "output_type": "execute_result"
    }
   ],
   "source": [
    "# what does the data look like? \n",
    "metro.head()"
   ]
  },
  {
   "cell_type": "code",
   "execution_count": 6,
   "id": "235f8a89-7533-412e-b2af-faf0abd7238b",
   "metadata": {},
   "outputs": [
    {
     "data": {
      "text/html": [
       "<div>\n",
       "<style scoped>\n",
       "    .dataframe tbody tr th:only-of-type {\n",
       "        vertical-align: middle;\n",
       "    }\n",
       "\n",
       "    .dataframe tbody tr th {\n",
       "        vertical-align: top;\n",
       "    }\n",
       "\n",
       "    .dataframe thead th {\n",
       "        text-align: right;\n",
       "    }\n",
       "</style>\n",
       "<table border=\"1\" class=\"dataframe\">\n",
       "  <thead>\n",
       "    <tr style=\"text-align: right;\">\n",
       "      <th></th>\n",
       "      <th>OBJECTID</th>\n",
       "      <th>PROJECT_NA</th>\n",
       "      <th>AV_ADD</th>\n",
       "      <th>TOOLTIP</th>\n",
       "      <th>NLA_URL</th>\n",
       "      <th>geometry</th>\n",
       "    </tr>\n",
       "  </thead>\n",
       "  <tbody>\n",
       "    <tr>\n",
       "      <th>2376</th>\n",
       "      <td>2377</td>\n",
       "      <td>956 W. 9th Street - Unit 4</td>\n",
       "      <td>956 W. 9TH STREET-#4</td>\n",
       "      <td>Project Name: 956 W. 9th Street - Unit 4\\nAddr...</td>\n",
       "      <td>navigatela/reports/affordable_housing.cfm?pk=2377</td>\n",
       "      <td>POINT (-118.29803 33.73608)</td>\n",
       "    </tr>\n",
       "    <tr>\n",
       "      <th>2377</th>\n",
       "      <td>2378</td>\n",
       "      <td>956 W. 9th Street - Unit 5</td>\n",
       "      <td>956 W. 9TH STREET-#5</td>\n",
       "      <td>Project Name: 956 W. 9th Street - Unit 5\\nAddr...</td>\n",
       "      <td>navigatela/reports/affordable_housing.cfm?pk=2378</td>\n",
       "      <td>POINT (-118.29803 33.73608)</td>\n",
       "    </tr>\n",
       "    <tr>\n",
       "      <th>2378</th>\n",
       "      <td>2379</td>\n",
       "      <td>956 W. 9th Street - Unit 6</td>\n",
       "      <td>956 W. 9TH STREET-#6</td>\n",
       "      <td>Project Name: 956 W. 9th Street - Unit 6\\nAddr...</td>\n",
       "      <td>navigatela/reports/affordable_housing.cfm?pk=2379</td>\n",
       "      <td>POINT (-118.29803 33.73608)</td>\n",
       "    </tr>\n",
       "    <tr>\n",
       "      <th>2379</th>\n",
       "      <td>2380</td>\n",
       "      <td>9247-9257 Van Nuys Boulevard Apts</td>\n",
       "      <td>9247-9257 VAN NUYS BOULEVARD</td>\n",
       "      <td>Project Name: 9247-9257 Van Nuys Boulevard Apt...</td>\n",
       "      <td>navigatela/reports/affordable_housing.cfm?pk=2380</td>\n",
       "      <td>POINT (-118.45026 34.23811)</td>\n",
       "    </tr>\n",
       "    <tr>\n",
       "      <th>2380</th>\n",
       "      <td>2381</td>\n",
       "      <td>Vista Del Sol (Phase III of Pueblo Del Sol - A...</td>\n",
       "      <td>1201 KEARNEY</td>\n",
       "      <td>Project Name: Vista Del Sol (Phase III of Pueb...</td>\n",
       "      <td>navigatela/reports/affordable_housing.cfm?pk=2381</td>\n",
       "      <td>POINT (-118.22715 34.05100)</td>\n",
       "    </tr>\n",
       "  </tbody>\n",
       "</table>\n",
       "</div>"
      ],
      "text/plain": [
       "      OBJECTID                                         PROJECT_NA  \\\n",
       "2376      2377                         956 W. 9th Street - Unit 4   \n",
       "2377      2378                         956 W. 9th Street - Unit 5   \n",
       "2378      2379                         956 W. 9th Street - Unit 6   \n",
       "2379      2380                  9247-9257 Van Nuys Boulevard Apts   \n",
       "2380      2381  Vista Del Sol (Phase III of Pueblo Del Sol - A...   \n",
       "\n",
       "                            AV_ADD  \\\n",
       "2376          956 W. 9TH STREET-#4   \n",
       "2377          956 W. 9TH STREET-#5   \n",
       "2378          956 W. 9TH STREET-#6   \n",
       "2379  9247-9257 VAN NUYS BOULEVARD   \n",
       "2380                  1201 KEARNEY   \n",
       "\n",
       "                                                TOOLTIP  \\\n",
       "2376  Project Name: 956 W. 9th Street - Unit 4\\nAddr...   \n",
       "2377  Project Name: 956 W. 9th Street - Unit 5\\nAddr...   \n",
       "2378  Project Name: 956 W. 9th Street - Unit 6\\nAddr...   \n",
       "2379  Project Name: 9247-9257 Van Nuys Boulevard Apt...   \n",
       "2380  Project Name: Vista Del Sol (Phase III of Pueb...   \n",
       "\n",
       "                                                NLA_URL  \\\n",
       "2376  navigatela/reports/affordable_housing.cfm?pk=2377   \n",
       "2377  navigatela/reports/affordable_housing.cfm?pk=2378   \n",
       "2378  navigatela/reports/affordable_housing.cfm?pk=2379   \n",
       "2379  navigatela/reports/affordable_housing.cfm?pk=2380   \n",
       "2380  navigatela/reports/affordable_housing.cfm?pk=2381   \n",
       "\n",
       "                         geometry  \n",
       "2376  POINT (-118.29803 33.73608)  \n",
       "2377  POINT (-118.29803 33.73608)  \n",
       "2378  POINT (-118.29803 33.73608)  \n",
       "2379  POINT (-118.45026 34.23811)  \n",
       "2380  POINT (-118.22715 34.05100)  "
      ]
     },
     "execution_count": 6,
     "metadata": {},
     "output_type": "execute_result"
    }
   ],
   "source": [
    "# what does the end of the data look like?\n",
    "metro.tail()"
   ]
  },
  {
   "cell_type": "code",
   "execution_count": 7,
   "id": "55e7c85a-892e-4457-b195-25c1467875f3",
   "metadata": {},
   "outputs": [
    {
     "data": {
      "text/html": [
       "<div>\n",
       "<style scoped>\n",
       "    .dataframe tbody tr th:only-of-type {\n",
       "        vertical-align: middle;\n",
       "    }\n",
       "\n",
       "    .dataframe tbody tr th {\n",
       "        vertical-align: top;\n",
       "    }\n",
       "\n",
       "    .dataframe thead th {\n",
       "        text-align: right;\n",
       "    }\n",
       "</style>\n",
       "<table border=\"1\" class=\"dataframe\">\n",
       "  <thead>\n",
       "    <tr style=\"text-align: right;\">\n",
       "      <th></th>\n",
       "      <th>OBJECTID</th>\n",
       "      <th>PROJECT_NA</th>\n",
       "      <th>AV_ADD</th>\n",
       "      <th>TOOLTIP</th>\n",
       "      <th>NLA_URL</th>\n",
       "      <th>geometry</th>\n",
       "    </tr>\n",
       "  </thead>\n",
       "  <tbody>\n",
       "    <tr>\n",
       "      <th>1178</th>\n",
       "      <td>1179</td>\n",
       "      <td>Sunset Normandie Apts</td>\n",
       "      <td>1412-1432 N. NORMANDIE AVE.</td>\n",
       "      <td>Project Name: Sunset Normandie Apts\\nAddress: ...</td>\n",
       "      <td>navigatela/reports/affordable_housing.cfm?pk=1179</td>\n",
       "      <td>POINT (-118.30052 34.09690)</td>\n",
       "    </tr>\n",
       "    <tr>\n",
       "      <th>306</th>\n",
       "      <td>307</td>\n",
       "      <td>Holiday Venice 3B</td>\n",
       "      <td>664 BROOKS AVE.</td>\n",
       "      <td>Project Name: Holiday Venice 3B\\nAddress: 664 ...</td>\n",
       "      <td>navigatela/reports/affordable_housing.cfm?pk=307</td>\n",
       "      <td>POINT (-118.46714 33.99631)</td>\n",
       "    </tr>\n",
       "    <tr>\n",
       "      <th>158</th>\n",
       "      <td>159</td>\n",
       "      <td>1540 S. St. Andrews</td>\n",
       "      <td>1540 S. ST. ANDREWS PL.</td>\n",
       "      <td>Project Name: 1540 S. St. Andrews\\nAddress: 15...</td>\n",
       "      <td>navigatela/reports/affordable_housing.cfm?pk=159</td>\n",
       "      <td>POINT (-118.31159 34.04466)</td>\n",
       "    </tr>\n",
       "  </tbody>\n",
       "</table>\n",
       "</div>"
      ],
      "text/plain": [
       "      OBJECTID             PROJECT_NA                       AV_ADD  \\\n",
       "1178      1179  Sunset Normandie Apts  1412-1432 N. NORMANDIE AVE.   \n",
       "306        307      Holiday Venice 3B              664 BROOKS AVE.   \n",
       "158        159    1540 S. St. Andrews      1540 S. ST. ANDREWS PL.   \n",
       "\n",
       "                                                TOOLTIP  \\\n",
       "1178  Project Name: Sunset Normandie Apts\\nAddress: ...   \n",
       "306   Project Name: Holiday Venice 3B\\nAddress: 664 ...   \n",
       "158   Project Name: 1540 S. St. Andrews\\nAddress: 15...   \n",
       "\n",
       "                                                NLA_URL  \\\n",
       "1178  navigatela/reports/affordable_housing.cfm?pk=1179   \n",
       "306    navigatela/reports/affordable_housing.cfm?pk=307   \n",
       "158    navigatela/reports/affordable_housing.cfm?pk=159   \n",
       "\n",
       "                         geometry  \n",
       "1178  POINT (-118.30052 34.09690)  \n",
       "306   POINT (-118.46714 33.99631)  \n",
       "158   POINT (-118.31159 34.04466)  "
      ]
     },
     "execution_count": 7,
     "metadata": {},
     "output_type": "execute_result"
    }
   ],
   "source": [
    "# what might a sample look like?\n",
    "metro.sample(3)"
   ]
  },
  {
   "cell_type": "code",
   "execution_count": 8,
   "id": "484d405a-f88d-44ac-8785-a5e3e0d4ef6e",
   "metadata": {},
   "outputs": [
    {
     "name": "stdout",
     "output_type": "stream",
     "text": [
      "<class 'geopandas.geodataframe.GeoDataFrame'>\n",
      "RangeIndex: 2381 entries, 0 to 2380\n",
      "Data columns (total 6 columns):\n",
      " #   Column      Non-Null Count  Dtype   \n",
      "---  ------      --------------  -----   \n",
      " 0   OBJECTID    2381 non-null   int64   \n",
      " 1   PROJECT_NA  2381 non-null   object  \n",
      " 2   AV_ADD      2381 non-null   object  \n",
      " 3   TOOLTIP     2381 non-null   object  \n",
      " 4   NLA_URL     2381 non-null   object  \n",
      " 5   geometry    2379 non-null   geometry\n",
      "dtypes: geometry(1), int64(1), object(4)\n",
      "memory usage: 111.7+ KB\n"
     ]
    }
   ],
   "source": [
    "# dataframe info\n",
    "metro.info()"
   ]
  },
  {
   "cell_type": "code",
   "execution_count": 9,
   "id": "03c01384-4fc8-421f-aa6b-ef973effd8bc",
   "metadata": {},
   "outputs": [
    {
     "data": {
      "text/plain": [
       "(2381, 6)"
      ]
     },
     "execution_count": 9,
     "metadata": {},
     "output_type": "execute_result"
    }
   ],
   "source": [
    "# how many rows and columns?\n",
    "metro.shape"
   ]
  },
  {
   "cell_type": "code",
   "execution_count": 10,
   "id": "d1515e1e-48be-4fe4-ac0c-1aea310bb427",
   "metadata": {},
   "outputs": [
    {
     "data": {
      "text/plain": [
       "['OBJECTID', 'PROJECT_NA', 'AV_ADD', 'TOOLTIP', 'NLA_URL', 'geometry']"
      ]
     },
     "execution_count": 10,
     "metadata": {},
     "output_type": "execute_result"
    }
   ],
   "source": [
    "# what are the columns?\n",
    "metro.columns.to_list()"
   ]
  },
  {
   "cell_type": "code",
   "execution_count": 11,
   "id": "eef1f6ed-257f-4b34-ae90-be8f7bfd2735",
   "metadata": {},
   "outputs": [
    {
     "data": {
      "text/plain": [
       "882                    Oakview-70th\n",
       "1857           4817 hooper ave apts\n",
       "812             HuncOt Properties/2\n",
       "227     11312-11318 1/2 HUSTON APTS\n",
       "2234       happy valley city lights\n",
       "Name: PROJECT_NA, dtype: object"
      ]
     },
     "execution_count": 11,
     "metadata": {},
     "output_type": "execute_result"
    }
   ],
   "source": [
    "# single column\n",
    "metro['PROJECT_NA'].sample(5)"
   ]
  },
  {
   "cell_type": "code",
   "execution_count": 12,
   "id": "ebfaa096-dc92-48ad-b81f-bf47624c30d0",
   "metadata": {},
   "outputs": [
    {
     "data": {
      "text/plain": [
       "PROJECT_NA\n",
       "LA Pro I Apts.                                                 5\n",
       "Preservation I Project                                         4\n",
       "Preservation III Project                                       4\n",
       "Holiday 101 A                                                  4\n",
       "LA Pro XXXII Apts                                              4\n",
       "                                                              ..\n",
       "HOUSTON HOMES APTS.                                            1\n",
       "2212 Workman                                                   1\n",
       "1909 w. adams apts                                             1\n",
       "Huncot Properties/3                                            1\n",
       "Vista Del Sol (Phase III of Pueblo Del Sol - Aliso Village)    1\n",
       "Name: count, Length: 2336, dtype: int64"
      ]
     },
     "execution_count": 12,
     "metadata": {},
     "output_type": "execute_result"
    }
   ],
   "source": [
    "metro['PROJECT_NA'].value_counts()"
   ]
  },
  {
   "cell_type": "code",
   "execution_count": 13,
   "id": "0d9e86a7-0789-4604-804e-42d145788c33",
   "metadata": {},
   "outputs": [
    {
     "data": {
      "text/plain": [
       "PROJECT_NA\n",
       "LA Pro I Apts.                                                 5\n",
       "Preservation I Project                                         4\n",
       "Preservation III Project                                       4\n",
       "Holiday 101 A                                                  4\n",
       "LA Pro XXXII Apts                                              4\n",
       "                                                              ..\n",
       "HOUSTON HOMES APTS.                                            1\n",
       "2212 Workman                                                   1\n",
       "1909 w. adams apts                                             1\n",
       "Huncot Properties/3                                            1\n",
       "Vista Del Sol (Phase III of Pueblo Del Sol - Aliso Village)    1\n",
       "Name: count, Length: 2336, dtype: int64"
      ]
     },
     "execution_count": 13,
     "metadata": {},
     "output_type": "execute_result"
    }
   ],
   "source": [
    "# save it as a variable\n",
    "project_count = metro['PROJECT_NA'].value_counts()\n",
    "project_count"
   ]
  },
  {
   "cell_type": "code",
   "execution_count": 14,
   "id": "dadf6675-71b3-4d0a-a67c-86fd197e4f33",
   "metadata": {},
   "outputs": [
    {
     "data": {
      "text/plain": [
       "pandas.core.series.Series"
      ]
     },
     "execution_count": 14,
     "metadata": {},
     "output_type": "execute_result"
    }
   ],
   "source": [
    "# what data type is project_count?\n",
    "type(project_count)"
   ]
  },
  {
   "cell_type": "code",
   "execution_count": 15,
   "id": "6320b310-e9ad-480d-a883-3dd116eda96f",
   "metadata": {},
   "outputs": [
    {
     "data": {
      "text/html": [
       "<div>\n",
       "<style scoped>\n",
       "    .dataframe tbody tr th:only-of-type {\n",
       "        vertical-align: middle;\n",
       "    }\n",
       "\n",
       "    .dataframe tbody tr th {\n",
       "        vertical-align: top;\n",
       "    }\n",
       "\n",
       "    .dataframe thead th {\n",
       "        text-align: right;\n",
       "    }\n",
       "</style>\n",
       "<table border=\"1\" class=\"dataframe\">\n",
       "  <thead>\n",
       "    <tr style=\"text-align: right;\">\n",
       "      <th></th>\n",
       "      <th>PROJECT_NA</th>\n",
       "      <th>count</th>\n",
       "    </tr>\n",
       "  </thead>\n",
       "  <tbody>\n",
       "    <tr>\n",
       "      <th>0</th>\n",
       "      <td>LA Pro I Apts.</td>\n",
       "      <td>5</td>\n",
       "    </tr>\n",
       "    <tr>\n",
       "      <th>1</th>\n",
       "      <td>Preservation I Project</td>\n",
       "      <td>4</td>\n",
       "    </tr>\n",
       "    <tr>\n",
       "      <th>2</th>\n",
       "      <td>Preservation III Project</td>\n",
       "      <td>4</td>\n",
       "    </tr>\n",
       "    <tr>\n",
       "      <th>3</th>\n",
       "      <td>Holiday 101 A</td>\n",
       "      <td>4</td>\n",
       "    </tr>\n",
       "    <tr>\n",
       "      <th>4</th>\n",
       "      <td>LA Pro XXXII Apts</td>\n",
       "      <td>4</td>\n",
       "    </tr>\n",
       "    <tr>\n",
       "      <th>...</th>\n",
       "      <td>...</td>\n",
       "      <td>...</td>\n",
       "    </tr>\n",
       "    <tr>\n",
       "      <th>2331</th>\n",
       "      <td>HOUSTON HOMES APTS.</td>\n",
       "      <td>1</td>\n",
       "    </tr>\n",
       "    <tr>\n",
       "      <th>2332</th>\n",
       "      <td>2212 Workman</td>\n",
       "      <td>1</td>\n",
       "    </tr>\n",
       "    <tr>\n",
       "      <th>2333</th>\n",
       "      <td>1909 w. adams apts</td>\n",
       "      <td>1</td>\n",
       "    </tr>\n",
       "    <tr>\n",
       "      <th>2334</th>\n",
       "      <td>Huncot Properties/3</td>\n",
       "      <td>1</td>\n",
       "    </tr>\n",
       "    <tr>\n",
       "      <th>2335</th>\n",
       "      <td>Vista Del Sol (Phase III of Pueblo Del Sol - A...</td>\n",
       "      <td>1</td>\n",
       "    </tr>\n",
       "  </tbody>\n",
       "</table>\n",
       "<p>2336 rows × 2 columns</p>\n",
       "</div>"
      ],
      "text/plain": [
       "                                             PROJECT_NA  count\n",
       "0                                        LA Pro I Apts.      5\n",
       "1                                Preservation I Project      4\n",
       "2                              Preservation III Project      4\n",
       "3                                         Holiday 101 A      4\n",
       "4                                     LA Pro XXXII Apts      4\n",
       "...                                                 ...    ...\n",
       "2331                                HOUSTON HOMES APTS.      1\n",
       "2332                                       2212 Workman      1\n",
       "2333                                 1909 w. adams apts      1\n",
       "2334                                Huncot Properties/3      1\n",
       "2335  Vista Del Sol (Phase III of Pueblo Del Sol - A...      1\n",
       "\n",
       "[2336 rows x 2 columns]"
      ]
     },
     "execution_count": 15,
     "metadata": {},
     "output_type": "execute_result"
    }
   ],
   "source": [
    "# let's convert the series into a dataframe\n",
    "project_count = project_count.reset_index()\n",
    "project_count"
   ]
  },
  {
   "cell_type": "code",
   "execution_count": 16,
   "id": "1b8d6e7d-015f-4dd8-b53d-6f0090fbd973",
   "metadata": {},
   "outputs": [
    {
     "data": {
      "text/plain": [
       "pandas.core.frame.DataFrame"
      ]
     },
     "execution_count": 16,
     "metadata": {},
     "output_type": "execute_result"
    }
   ],
   "source": [
    "type(project_count)"
   ]
  },
  {
   "cell_type": "code",
   "execution_count": 17,
   "id": "1d95c5ec-3369-4c1a-8410-9a7c79bf7b66",
   "metadata": {},
   "outputs": [
    {
     "data": {
      "text/plain": [
       "['PROJECT_NA', 'count']"
      ]
     },
     "execution_count": 17,
     "metadata": {},
     "output_type": "execute_result"
    }
   ],
   "source": [
    "# current columns as a list\n",
    "project_count.columns.to_list()"
   ]
  },
  {
   "cell_type": "code",
   "execution_count": 18,
   "id": "695fafab-1dea-4728-86ff-68f58afa8212",
   "metadata": {},
   "outputs": [],
   "source": [
    "project_count.columns = ['project', 'count']"
   ]
  },
  {
   "cell_type": "code",
   "execution_count": 19,
   "id": "5f7d3f37-e809-44c9-a129-be37bb516c21",
   "metadata": {},
   "outputs": [
    {
     "data": {
      "text/html": [
       "<div>\n",
       "<style scoped>\n",
       "    .dataframe tbody tr th:only-of-type {\n",
       "        vertical-align: middle;\n",
       "    }\n",
       "\n",
       "    .dataframe tbody tr th {\n",
       "        vertical-align: top;\n",
       "    }\n",
       "\n",
       "    .dataframe thead th {\n",
       "        text-align: right;\n",
       "    }\n",
       "</style>\n",
       "<table border=\"1\" class=\"dataframe\">\n",
       "  <thead>\n",
       "    <tr style=\"text-align: right;\">\n",
       "      <th></th>\n",
       "      <th>project</th>\n",
       "      <th>count</th>\n",
       "    </tr>\n",
       "  </thead>\n",
       "  <tbody>\n",
       "    <tr>\n",
       "      <th>0</th>\n",
       "      <td>LA Pro I Apts.</td>\n",
       "      <td>5</td>\n",
       "    </tr>\n",
       "    <tr>\n",
       "      <th>1</th>\n",
       "      <td>Preservation I Project</td>\n",
       "      <td>4</td>\n",
       "    </tr>\n",
       "    <tr>\n",
       "      <th>2</th>\n",
       "      <td>Preservation III Project</td>\n",
       "      <td>4</td>\n",
       "    </tr>\n",
       "    <tr>\n",
       "      <th>3</th>\n",
       "      <td>Holiday 101 A</td>\n",
       "      <td>4</td>\n",
       "    </tr>\n",
       "    <tr>\n",
       "      <th>4</th>\n",
       "      <td>LA Pro XXXII Apts</td>\n",
       "      <td>4</td>\n",
       "    </tr>\n",
       "    <tr>\n",
       "      <th>...</th>\n",
       "      <td>...</td>\n",
       "      <td>...</td>\n",
       "    </tr>\n",
       "    <tr>\n",
       "      <th>2331</th>\n",
       "      <td>HOUSTON HOMES APTS.</td>\n",
       "      <td>1</td>\n",
       "    </tr>\n",
       "    <tr>\n",
       "      <th>2332</th>\n",
       "      <td>2212 Workman</td>\n",
       "      <td>1</td>\n",
       "    </tr>\n",
       "    <tr>\n",
       "      <th>2333</th>\n",
       "      <td>1909 w. adams apts</td>\n",
       "      <td>1</td>\n",
       "    </tr>\n",
       "    <tr>\n",
       "      <th>2334</th>\n",
       "      <td>Huncot Properties/3</td>\n",
       "      <td>1</td>\n",
       "    </tr>\n",
       "    <tr>\n",
       "      <th>2335</th>\n",
       "      <td>Vista Del Sol (Phase III of Pueblo Del Sol - A...</td>\n",
       "      <td>1</td>\n",
       "    </tr>\n",
       "  </tbody>\n",
       "</table>\n",
       "<p>2336 rows × 2 columns</p>\n",
       "</div>"
      ],
      "text/plain": [
       "                                                project  count\n",
       "0                                        LA Pro I Apts.      5\n",
       "1                                Preservation I Project      4\n",
       "2                              Preservation III Project      4\n",
       "3                                         Holiday 101 A      4\n",
       "4                                     LA Pro XXXII Apts      4\n",
       "...                                                 ...    ...\n",
       "2331                                HOUSTON HOMES APTS.      1\n",
       "2332                                       2212 Workman      1\n",
       "2333                                 1909 w. adams apts      1\n",
       "2334                                Huncot Properties/3      1\n",
       "2335  Vista Del Sol (Phase III of Pueblo Del Sol - A...      1\n",
       "\n",
       "[2336 rows x 2 columns]"
      ]
     },
     "execution_count": 19,
     "metadata": {},
     "output_type": "execute_result"
    }
   ],
   "source": [
    "project_count"
   ]
  },
  {
   "cell_type": "code",
   "execution_count": 20,
   "id": "2841360f-2c3b-4ce3-badc-08be3cfecbcc",
   "metadata": {},
   "outputs": [
    {
     "data": {
      "text/plain": [
       "<Axes: >"
      ]
     },
     "execution_count": 20,
     "metadata": {},
     "output_type": "execute_result"
    },
    {
     "data": {
      "image/png": "[encoded data removed]",
      "text/plain": [
       "<Figure size 640x480 with 1 Axes>"
      ]
     },
     "metadata": {},
     "output_type": "display_data"
    }
   ],
   "source": [
    "# most projects have unique names to identify themselves, so the plot doesn't look that nice. will use a better dataset to depict this next time.\n",
    "project_count.plot()"
   ]
  },
  {
   "cell_type": "code",
   "execution_count": 22,
   "id": "042ec0f5-8848-499f-9083-d5926bc8f206",
   "metadata": {},
   "outputs": [
    {
     "data": {
      "text/plain": [
       "<Axes: title={'center': 'Number of Developments per Project'}, xlabel='project'>"
      ]
     },
     "execution_count": 22,
     "metadata": {},
     "output_type": "execute_result"
    },
    {
     "data": {
      "image/png": "[encoded data removed]",
      "text/plain": [
       "<Figure size 640x480 with 1 Axes>"
      ]
     },
     "metadata": {},
     "output_type": "display_data"
    }
   ],
   "source": [
    "# give it additional arguments\n",
    "project_count.plot.bar(x = 'project', y = 'count', title = 'Number of Developments per Project')"
   ]
  },
  {
   "cell_type": "code",
   "execution_count": null,
   "id": "84e03ee8-da15-412b-856a-0c136e97189d",
   "metadata": {},
   "outputs": [],
   "source": []
  }
 ],
 "metadata": {
  "kernelspec": {
   "display_name": "Python 3 (ipykernel)",
   "language": "python",
   "name": "python3"
  },
  "language_info": {
   "codemirror_mode": {
    "name": "ipython",
    "version": 3
   },
   "file_extension": ".py",
   "mimetype": "text/x-python",
   "name": "python",
   "nbconvert_exporter": "python",
   "pygments_lexer": "ipython3",
   "version": "3.11.7"
  }
 },
 "nbformat": 4,
 "nbformat_minor": 5
}
